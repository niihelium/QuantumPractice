{
 "cells": [
  {
   "cell_type": "markdown",
   "metadata": {},
   "source": [
    "# Python and LaTeX notebooks for quantum math practice\n",
    "\n",
    "* **[Complex arithmetic](./ComplexArithmetic/ComplexArithmetic.ipynb)**\n",
    "* Linear algebra\n",
    "* Tensors (Div Rot Grad)\n",
    "* Differential equations\n",
    "* Integral calculus\n",
    "* Fourier analysis\n",
    "* Group theory"
   ]
  },
  {
   "cell_type": "markdown",
   "metadata": {},
   "source": [
    "Quantum harmonic oscilator"
   ]
  },
  {
   "cell_type": "markdown",
   "metadata": {},
   "source": [
    "Differences between loop quantum gravity and string theory"
   ]
  },
  {
   "cell_type": "markdown",
   "metadata": {},
   "source": [
    "Light front quantization\n",
    "Form factor"
   ]
  }
 ],
 "metadata": {
  "kernelspec": {
   "display_name": "Python 3",
   "language": "python",
   "name": "python3"
  },
  "language_info": {
   "codemirror_mode": {
    "name": "ipython",
    "version": 3
   },
   "file_extension": ".py",
   "mimetype": "text/x-python",
   "name": "python",
   "nbconvert_exporter": "python",
   "pygments_lexer": "ipython3",
   "version": "3.7.6"
  }
 },
 "nbformat": 4,
 "nbformat_minor": 4
}
